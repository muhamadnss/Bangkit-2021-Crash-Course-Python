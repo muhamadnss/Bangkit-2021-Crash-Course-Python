{
 "cells": [
  {
   "cell_type": "code",
   "execution_count": 1,
   "metadata": {},
   "outputs": [
    {
     "name": "stdout",
     "output_type": "stream",
     "text": [
      "Hello World, Ahmad\n"
     ]
    }
   ],
   "source": [
    "print(\"Hello World, Ahmad\")"
   ]
  },
  {
   "cell_type": "code",
   "execution_count": 3,
   "metadata": {},
   "outputs": [
    {
     "name": "stdout",
     "output_type": "stream",
     "text": [
      "Hello, Ahmad\n",
      "Hello, Rizqi\n",
      "Hello, Akmal\n",
      "Hello, Fina\n"
     ]
    }
   ],
   "source": [
    "friends = ['Ahmad', 'Rizqi', 'Akmal', 'Fina']\n",
    "for friend in friends:\n",
    "    print(\"Hello, \" + friend)"
   ]
  },
  {
   "cell_type": "code",
   "execution_count": 1,
   "metadata": {},
   "outputs": [
    {
     "name": "stdout",
     "output_type": "stream",
     "text": [
      "Hello, my name is Ahmad\n"
     ]
    }
   ],
   "source": [
    "# Try to set data value in variable and retrieve by displaying it\n",
    "name = \"Ahmad\"\n",
    "print(\"Hello, my name is \" + name)"
   ]
  },
  {
   "cell_type": "code",
   "execution_count": 18,
   "metadata": {},
   "outputs": [
    {
     "name": "stdout",
     "output_type": "stream",
     "text": [
      "Number 1 = 2\n",
      "Number2 = 34\n",
      "Number 3 = 100\n",
      "\n",
      "The result of Number 1 + Number 2 + Number 3 is :  113\n",
      "The result of Number 3 - Number 1 + Number 2 is :  87\n",
      "The result of Number 2 x Number 3 - Number 1 is :  1098\n",
      "The result of ((Number 3 : Number 1) ^ Number 2) is :  4.8828125e+18\n",
      "The result of Number3 // Number 2 is :  9\n"
     ]
    }
   ],
   "source": [
    "#Try to do some math calculation using python\n",
    "number1 = 2\n",
    "number2 = 11\n",
    "number3 = 100\n",
    "\n",
    "print(\"Number 1 = 2\\nNumber2 = 34\\nNumber 3 = 100\\n\")\n",
    "print(\"The result of Number 1 + Number 2 + Number 3 is : \", number1 + number2 + number3)\n",
    "print(\"The result of Number 3 - Number 1 + Number 2 is : \", number3 - number1 - number2)\n",
    "print(\"The result of Number 2 x Number 3 - Number 1 is : \", number2 * number3 - number1)\n",
    "print(\"The result of ((Number 3 : Number 1) ^ Number 2) is : \",((number3 / number1)**number2))\n",
    "print(\"The result of Number3 // Number 2 is : \", number3 // number2 )\n"
   ]
  },
  {
   "cell_type": "code",
   "execution_count": null,
   "metadata": {},
   "outputs": [],
   "source": []
  }
 ],
 "metadata": {
  "kernelspec": {
   "display_name": "Python 3",
   "language": "python",
   "name": "python3"
  },
  "language_info": {
   "codemirror_mode": {
    "name": "ipython",
    "version": 3
   },
   "file_extension": ".py",
   "mimetype": "text/x-python",
   "name": "python",
   "nbconvert_exporter": "python",
   "pygments_lexer": "ipython3",
   "version": "3.6.5"
  }
 },
 "nbformat": 4,
 "nbformat_minor": 2
}
